{
  "nbformat": 4,
  "nbformat_minor": 0,
  "metadata": {
    "colab": {
      "name": "assignment_max.ipynb",
      "provenance": []
    },
    "kernelspec": {
      "name": "python3",
      "display_name": "Python 3"
    }
  },
  "cells": [
    {
      "cell_type": "code",
      "metadata": {
        "id": "BKb96bvtercK",
        "colab_type": "code",
        "colab": {
          "base_uri": "https://localhost:8080/",
          "height": 90
        },
        "outputId": "c43c8dd6-42d8-43db-8b7d-d06912b86be1"
      },
      "source": [
        "n1=int(input(\"enter the 1st no \"))\n",
        "n2=int(input(\"enter the 2nd no \"))\n",
        "n3=int(input(\"enter the 3rd no \"))\n",
        "if n1>=n2 and n1>=n3:\n",
        "  print(\"{} is max\".format(n1))\n",
        "if n2>=n1 and n2>=n3:\n",
        "  print(\"{} is max\".format(n2))\n",
        "if n3>=n1 and n3>=n2:\n",
        "  print(\"{} is max\".format(n3))\n"
      ],
      "execution_count": 1,
      "outputs": [
        {
          "output_type": "stream",
          "text": [
            "enter the 1st no 1\n",
            "enter the 2nd no 2\n",
            "enter the 3rd no 3\n",
            "3 is max\n"
          ],
          "name": "stdout"
        }
      ]
    }
  ]
}