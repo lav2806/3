{
  "nbformat": 4,
  "nbformat_minor": 0,
  "metadata": {
    "colab": {
      "name": "assignment_using_and_or.ipynb",
      "provenance": []
    },
    "kernelspec": {
      "name": "python3",
      "display_name": "Python 3"
    }
  },
  "cells": [
    {
      "cell_type": "code",
      "metadata": {
        "id": "s_1HvkrsYOXF",
        "colab_type": "code",
        "colab": {}
      },
      "source": [
        "n1=int(input(\"enter the 1st no\"))\n",
        "n2=int(input(\"enter the 2nd number\"))\n",
        "n3=int(input(\"enter the 3rd no\"))\n",
        "if (n1 and n2 and n3)==1:\n",
        "  print(\"the numbers are equal\")\n",
        "elif ((n1==n2)or(n2==n3)or(n3==n1))==1:\n",
        "  print(\"any of the two no is equal\")\n",
        "else:\n",
        "  print(\"they are not equal\")\n"
      ],
      "execution_count": null,
      "outputs": []
    }
  ]
}