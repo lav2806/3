{
  "nbformat": 4,
  "nbformat_minor": 0,
  "metadata": {
    "colab": {
      "name": "assignment_sum_5.ipynb",
      "provenance": []
    },
    "kernelspec": {
      "name": "python3",
      "display_name": "Python 3"
    }
  },
  "cells": [
    {
      "cell_type": "code",
      "metadata": {
        "id": "-hC-n8_4cgjF",
        "colab_type": "code",
        "colab": {
          "base_uri": "https://localhost:8080/",
          "height": 72
        },
        "outputId": "65e3a938-9c47-474d-b046-6ed0c2651f93"
      },
      "source": [
        "n1=int(input(\"enter the 1st number \"))\n",
        "n2=int(input(\"enter the 2nd number \"))\n",
        "if n1+n2==5:\n",
        "  print(\"sum is equal to 5\")\n",
        "elif n1+n2<5:\n",
        "  print(\"sum is less than 5\")\n",
        "else:\n",
        "  print(\"sum is greater than 5\")"
      ],
      "execution_count": 2,
      "outputs": [
        {
          "output_type": "stream",
          "text": [
            "enter the 1st number 2\n",
            "enter the 2nd number 1\n",
            "sum is less than 5\n"
          ],
          "name": "stdout"
        }
      ]
    }
  ]
}