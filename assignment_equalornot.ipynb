{
  "nbformat": 4,
  "nbformat_minor": 0,
  "metadata": {
    "colab": {
      "name": "assignment_equalornot.ipynb",
      "provenance": []
    },
    "kernelspec": {
      "name": "python3",
      "display_name": "Python 3"
    }
  },
  "cells": [
    {
      "cell_type": "code",
      "metadata": {
        "id": "fy1qCZj2XSST",
        "colab_type": "code",
        "colab": {}
      },
      "source": [
        "n1=int(input(\"enter the 1st number\"))\n",
        "n2=int(input(\"enter the 2nd number\"))\n",
        "if n1==n2:\n",
        "  print(\"they are equal\")\n",
        "else:\n",
        "  print(\"they are not equal\")\n"
      ],
      "execution_count": null,
      "outputs": []
    }
  ]
}