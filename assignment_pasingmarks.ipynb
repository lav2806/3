{
  "nbformat": 4,
  "nbformat_minor": 0,
  "metadata": {
    "colab": {
      "name": "assignment_pasingmarks.ipynb",
      "provenance": []
    },
    "kernelspec": {
      "name": "python3",
      "display_name": "Python 3"
    }
  },
  "cells": [
    {
      "cell_type": "code",
      "metadata": {
        "id": "5fdWnZUEdqaZ",
        "colab_type": "code",
        "colab": {
          "base_uri": "https://localhost:8080/",
          "height": 54
        },
        "outputId": "094fa326-57d8-4927-815b-f56409354697"
      },
      "source": [
        "n1=int(input(\"enter the students marks\"))\n",
        "if n1>=35:\n",
        "  print(\"the marks scored is greater than or equal to the passing marks\")\n",
        "else:\n",
        "  print(\"the student has failed\")"
      ],
      "execution_count": 2,
      "outputs": [
        {
          "output_type": "stream",
          "text": [
            "enter the students marks36\n",
            "the marks scored is greater than or equal to the passing marks\n"
          ],
          "name": "stdout"
        }
      ]
    }
  ]
}